{
 "cells": [
  {
   "cell_type": "markdown",
   "metadata": {},
   "source": [
    "# Results: Acceptance Function - Alpha"
   ]
  },
  {
   "cell_type": "markdown",
   "metadata": {},
   "source": [
    "Imports:"
   ]
  },
  {
   "cell_type": "code",
   "execution_count": 1,
   "metadata": {},
   "outputs": [],
   "source": [
    "import numpy as np\n",
    "import matplotlib.pyplot as plt\n",
    "import pandas as pd\n",
    "import json\n",
    "import re\n",
    "import pandas as pd\n",
    "import dataframe_image as dfi\n",
    "from os import listdir\n",
    "from os.path import isfile, join"
   ]
  },
  {
   "cell_type": "markdown",
   "metadata": {},
   "source": [
    "**Data Retrieval**\n",
    "\n",
    "Insert local path to the Results folder here:"
   ]
  },
  {
   "cell_type": "code",
   "execution_count": 2,
   "metadata": {},
   "outputs": [],
   "source": [
    "path = \"C:\\\\Path\\\\to\\\\folder\\\\containing\\\\the\\\\results\\\\\" # TODO FILL IN THE LOCAL PATH"
   ]
  },
  {
   "cell_type": "markdown",
   "metadata": {},
   "source": [
    "Retrieve the files and extract the data:"
   ]
  },
  {
   "cell_type": "code",
   "execution_count": 3,
   "metadata": {},
   "outputs": [],
   "source": [
    "robot_files =  [f for f in listdir(path + \"robot\\\\\")  if isfile(join(path + \"robot\\\\\", f))]\n",
    "pixel_files =  [f for f in listdir(path + \"pixel\\\\\")  if isfile(join(path + \"pixel\\\\\", f))]\n",
    "string_files = [f for f in listdir(path + \"string\\\\\") if isfile(join(path + \"string\\\\\", f))]"
   ]
  },
  {
   "cell_type": "code",
   "execution_count": 4,
   "metadata": {},
   "outputs": [],
   "source": [
    "robot_data = []\n",
    "for file in robot_files:\n",
    "    with open(path + 'robot\\\\' + file, 'r') as f:\n",
    "        l = json.loads(f.readlines()[-1])\n",
    "        if ('domain' in l.keys()): # avoid loading incomplete data\n",
    "            robot_data.append(l)"
   ]
  },
  {
   "cell_type": "code",
   "execution_count": 5,
   "metadata": {},
   "outputs": [],
   "source": [
    "pixel_data = []\n",
    "for file in pixel_files:\n",
    "    with open(path + 'pixel\\\\' + file, 'r') as f:\n",
    "        l = json.loads(f.readlines()[-1])\n",
    "        if ('domain' in l.keys()): # avoid loading incomplete data\n",
    "            pixel_data.append(l)"
   ]
  },
  {
   "cell_type": "code",
   "execution_count": 6,
   "metadata": {},
   "outputs": [],
   "source": [
    "string_data = []\n",
    "for file in string_files:\n",
    "    with open(path + 'string\\\\' + file, 'r') as f:\n",
    "        l = json.loads(f.readlines()[-1])\n",
    "        if ('domain' in l.keys()): # avoid loading incomplete data\n",
    "            string_data.append(l)"
   ]
  },
  {
   "cell_type": "markdown",
   "metadata": {},
   "source": [
    "## Print Results"
   ]
  },
  {
   "cell_type": "code",
   "execution_count": 7,
   "metadata": {},
   "outputs": [
    {
     "name": "stdout",
     "output_type": "stream",
     "text": [
      "\n",
      "Cases solved (Robot):\n",
      "alpha=0.25\t: 550 / 550 (100.0%)\n",
      "alpha=0.5\t: 550 / 550 (100.0%)\n",
      "alpha=0.75\t: 550 / 550 (100.0%)\n",
      "alpha=1\t: 550 / 550 (100.0%)\n",
      "alpha=1.25\t: 550 / 550 (100.0%)\n",
      "alpha=1.5\t: 550 / 550 (100.0%)\n",
      "alpha=1.75\t: 550 / 550 (100.0%)\n",
      "\n",
      "Cases solved (Pixel):\n",
      "alpha=0.25\t: 5 / 500 (1.0%)\n",
      "alpha=0.5\t: 24 / 500 (4.8%)\n",
      "alpha=0.75\t: 75 / 500 (15.0%)\n",
      "alpha=1\t: 97 / 500 (19.4%)\n",
      "alpha=1.25\t: 101 / 500 (20.2%)\n",
      "alpha=1.5\t: 103 / 500 (20.6%)\n",
      "alpha=1.75\t: 113 / 500 (22.6%)\n",
      "\n",
      "Cases solved (String):\n",
      "alpha=0.25\t: 6161 / 19295 (31.9%)\n",
      "alpha=0.25\t: 6147 / 19295 (31.9%)\n",
      "alpha=0.5\t: 5400 / 19295 (28.0%)\n",
      "alpha=0.75\t: 4704 / 19295 (24.4%)\n",
      "alpha=1\t: 4124 / 19295 (21.4%)\n",
      "alpha=1.25\t: 3875 / 19295 (20.1%)\n",
      "alpha=1.5\t: 3687 / 19295 (19.1%)\n",
      "alpha=1.75\t: 3602 / 19295 (18.7%)\n"
     ]
    }
   ],
   "source": [
    "print(\"\\nCases solved (Robot):\")\n",
    "for x in robot_data:\n",
    "    print(\"alpha=\" + str(x['params']['alpha']) + \"\\t: \" + x['cases_solved'])\n",
    "\n",
    "print(\"\\nCases solved (Pixel):\")\n",
    "for x in pixel_data:\n",
    "    print(\"alpha=\" + str(x['params']['alpha']) + \"\\t: \" + x['cases_solved'])\n",
    "    \n",
    "print(\"\\nCases solved (String):\")\n",
    "for x in string_data:\n",
    "    print(\"alpha=\" + str(x['params']['alpha']) + \"\\t: \" + x['cases_solved'])"
   ]
  },
  {
   "cell_type": "code",
   "execution_count": 8,
   "metadata": {},
   "outputs": [
    {
     "name": "stdout",
     "output_type": "stream",
     "text": [
      "\n",
      "Execution Time (Robot):\n",
      "alpha=0.25\t: 1.3915505887763644\n",
      "alpha=0.5\t: 0.05253905146181819\n",
      "alpha=0.75\t: 0.018110385618181804\n",
      "alpha=1\t: 0.008612887432727274\n",
      "alpha=1.25\t: 0.006251148501818182\n",
      "alpha=1.5\t: 0.005147470967272729\n",
      "alpha=1.75\t: 0.004463879165454545\n",
      "\n",
      "Execution Time (Pixel):\n",
      "alpha=0.25\t: 16.067929768200003\n",
      "alpha=0.5\t: 19.021301430749993\n",
      "alpha=0.75\t: 19.614296948133322\n",
      "alpha=1\t: 7.460459719484534\n",
      "alpha=1.25\t: 6.400646667683168\n",
      "alpha=1.5\t: 3.395039918825243\n",
      "alpha=1.75\t: 5.885725166734511\n",
      "\n",
      "Execution Time (String):\n",
      "alpha=0.25\t: 6.171562693980371\n",
      "alpha=0.25\t: 5.975530456936717\n",
      "alpha=0.5\t: 6.234746082380004\n",
      "alpha=0.75\t: 5.774589116131592\n",
      "alpha=1\t: 4.707827207832185\n",
      "alpha=1.25\t: 4.148581036714064\n",
      "alpha=1.5\t: 3.6853108940409527\n",
      "alpha=1.75\t: 3.5838714806188317\n"
     ]
    }
   ],
   "source": [
    "print(\"\\nExecution Time (Robot):\")\n",
    "for x in robot_data:\n",
    "    print(\"alpha=\" + str(x['params']['alpha']) + \"\\t: \" + str(x['average_correct']['execution_time']))\n",
    "\n",
    "print(\"\\nExecution Time (Pixel):\")\n",
    "for x in pixel_data:\n",
    "    print(\"alpha=\" + str(x['params']['alpha']) + \"\\t: \" + str(x['average_correct']['execution_time']))\n",
    "    \n",
    "print(\"\\nExecution Time (String):\")\n",
    "for x in string_data:\n",
    "    print(\"alpha=\" + str(x['params']['alpha']) + \"\\t: \" + str(x['average_correct']['execution_time']))"
   ]
  },
  {
   "cell_type": "code",
   "execution_count": 9,
   "metadata": {},
   "outputs": [
    {
     "name": "stdout",
     "output_type": "stream",
     "text": [
      "\n",
      "Execution Time (Robot):\n",
      "alpha=0.25\t: 77.85818181818178\n",
      "alpha=0.5\t: 126.46909090909088\n",
      "alpha=0.75\t: 108.16181818181813\n",
      "alpha=1\t: 78.65818181818182\n",
      "alpha=1.25\t: 67.02545454545456\n",
      "alpha=1.5\t: 56.6472727272727\n",
      "alpha=1.75\t: 54.094545454545475\n",
      "\n",
      "Execution Time (Pixel):\n",
      "alpha=0.25\t: 49.2\n",
      "alpha=0.5\t: 104.12499999999999\n",
      "alpha=0.75\t: 165.48000000000002\n",
      "alpha=1\t: 192.53608247422673\n",
      "alpha=1.25\t: 240.4554455445544\n",
      "alpha=1.5\t: 282.5436893203884\n",
      "alpha=1.75\t: 325.7079646017698\n",
      "\n",
      "Execution Time (String):\n",
      "alpha=0.25\t: 48.17545852945966\n",
      "alpha=0.25\t: 48.037741987960786\n",
      "alpha=0.5\t: 71.86759259259259\n",
      "alpha=0.75\t: 94.02784863945625\n",
      "alpha=1\t: 107.60911736178508\n",
      "alpha=1.25\t: 118.0856774193552\n",
      "alpha=1.5\t: 123.96338486574463\n",
      "alpha=1.75\t: 135.7512493059413\n"
     ]
    }
   ],
   "source": [
    "print(\"\\nExecution Time (Robot):\")\n",
    "for x in robot_data:\n",
    "    print(\"alpha=\" + str(x['params']['alpha']) + \"\\t: \" + str(x['average_correct']['program_length']))\n",
    "\n",
    "print(\"\\nExecution Time (Pixel):\")\n",
    "for x in pixel_data:\n",
    "    print(\"alpha=\" + str(x['params']['alpha']) + \"\\t: \" + str(x['average_correct']['program_length']))\n",
    "    \n",
    "print(\"\\nExecution Time (String):\")\n",
    "for x in string_data:\n",
    "    print(\"alpha=\" + str(x['params']['alpha']) + \"\\t: \" + str(x['average_correct']['program_length']))"
   ]
  },
  {
   "cell_type": "markdown",
   "metadata": {},
   "source": [
    "## Plot Results"
   ]
  },
  {
   "cell_type": "code",
   "execution_count": 10,
   "metadata": {},
   "outputs": [],
   "source": [
    "def plot_figure_cases_solved(data):\n",
    "    plt.figure()\n",
    "    for d in data:\n",
    "        xs = [i['params']['alpha'] for i in d]\n",
    "        ys = [float(re.match(\".*\\((.*)%\\).*$\", j['cases_solved']).group(1)) for j in d]\n",
    "        plt.scatter(xs, ys, linewidth=1, label=d[0]['domain'])\n",
    "        plt.xlabel(\"Alpha\")\n",
    "        plt.ylabel(\"Cases Solved \\(\\%\\)\")\n",
    "        for x,y in zip(xs,ys): # Comment to remove data labels\n",
    "            label = \"{:.2f}\".format(y)\n",
    "            plt.annotate(label, # this is the text\n",
    "                     (x,y), # these are the coordinates to position the label\n",
    "                     textcoords=\"offset points\", # how to position the text\n",
    "                     xytext=(0,10), # distance from text to points (x,y)\n",
    "                     ha='center')   \n",
    "    plt.legend()"
   ]
  },
  {
   "cell_type": "code",
   "execution_count": 11,
   "metadata": {},
   "outputs": [],
   "source": [
    "def plot_figure_execution_time(data, errorbars):\n",
    "    plt.figure()\n",
    "    for d in data:\n",
    "        xs = [i['params']['alpha'] for i in d]\n",
    "        ys = [j['average_correct']['execution_time'] for j in d]\n",
    "        plt.scatter(xs, ys, label=d[0]['domain'])\n",
    "        if errorbars:\n",
    "            err =  [np.sqrt(j['variance_correct']['execution_time']) for j in d]\n",
    "            plt.errorbar(x, y, yerr=err, capsize=5, capthick=2, alpha=0.5)\n",
    "        plt.xlabel(\"Alpha\")\n",
    "        plt.ylabel(\"Execution Time\")\n",
    "        for x,y in zip(xs,ys): # Comment to remove data labels\n",
    "            label = \"{:.2f}\".format(y)\n",
    "            plt.annotate(label, # this is the text\n",
    "                     (x,y), # these are the coordinates to position the label\n",
    "                     textcoords=\"offset points\", # how to position the text\n",
    "                     xytext=(0,10), # distance from text to points (x,y)\n",
    "                     ha='center')   \n",
    "    plt.legend()"
   ]
  },
  {
   "cell_type": "code",
   "execution_count": 12,
   "metadata": {},
   "outputs": [],
   "source": [
    "def plot_figure_program_length(data, errorbars):\n",
    "    plt.figure()\n",
    "    for d in data:\n",
    "        xs = [i['params']['alpha'] for i in d]\n",
    "        ys = [x['average_correct']['program_length'] for x in d]\n",
    "        plt.scatter(xs, ys, label=d[0]['domain'])\n",
    "        if errorbars:\n",
    "            err =  [np.sqrt(j['variance_correct']['program_length']) for j in d]\n",
    "            plt.errorbar(x, y, yerr=err, capsize=5, capthick=2, alpha=0.5)\n",
    "        plt.xlabel(\"Alpha\")\n",
    "        plt.ylabel(\"Program Length\")\n",
    "        for x,y in zip(xs,ys): # Comment to remove data labels\n",
    "            label = \"{:.2f}\".format(y)\n",
    "            plt.annotate(label, # this is the text\n",
    "                     (x,y), # these are the coordinates to position the label\n",
    "                     textcoords=\"offset points\", # how to position the text\n",
    "                     xytext=(0,10), # distance from text to points (x,y)\n",
    "                     ha='center')   \n",
    "    plt.legend()"
   ]
  },
  {
   "cell_type": "code",
   "execution_count": 13,
   "metadata": {},
   "outputs": [],
   "source": [
    "def plot_figure(data, param):\n",
    "    fig, axs = plt.subplots(1,3, figsize=(18, 6))    \n",
    "    \n",
    "    for d in data:\n",
    "        xs = [i['params'][param] for i in d]\n",
    "        ys0 = [float(re.match(\".*\\((.*)%\\).*$\", j['cases_solved']).group(1)) for j in d]\n",
    "        ys1 = [j['average_correct']['execution_time'] for j in d]\n",
    "        ys2 = [j['average_correct']['program_length'] for j in d]\n",
    "        ys = [ys0, ys1, ys2]\n",
    "        ylabels = [\"Cases Solved (%)\", \"Execution Time (s)\", \"Program Length\"]\n",
    "        \n",
    "        for i in range(3):\n",
    "            a,b = np.polyfit(xs, ys[i], 1)\n",
    "            axs[i].plot(xs, ys[i], 'o', label=d[0]['domain'] + \" -> \" + str('%.1g' % a))\n",
    "            axs[i].set_xlabel(param.capitalize())\n",
    "            axs[i].set_ylabel(ylabels[i])\n",
    "            axs[i].legend()\n",
    "        \n",
    "##         Uncomment to add data labels\n",
    "#         for x,y in zip(xs,np.array(ys).T.tolist()):\n",
    "#             axs[0].annotate(\"{:.2f}\".format(y[0]), # this is the text\n",
    "#                      (x,y[0]), # these are the coordinates to position the label\n",
    "#                      textcoords=\"offset points\", # how to position the text\n",
    "#                      xytext=(0,10), # distance from text to points (x,y)\n",
    "#                      ha='center')\n",
    "#             axs[1].annotate(\"{:.2f}\".format(y[1]), # this is the text\n",
    "#                      (x,y[1]), # these are the coordinates to position the label\n",
    "#                      textcoords=\"offset points\", # how to position the text\n",
    "#                      xytext=(0,10), # distance from text to points (x,y)\n",
    "#                      ha='center')  \n",
    "#             axs[2].annotate(\"{:.2f}\".format(y[2]), # this is the text\n",
    "#                      (x,y[2]), # these are the coordinates to position the label\n",
    "#                      textcoords=\"offset points\", # how to position the text\n",
    "#                      xytext=(0,10), # distance from text to points (x,y)\n",
    "#                      ha='center')  \n",
    "\n",
    "    plt.legend()\n",
    "    "
   ]
  },
  {
   "cell_type": "code",
   "execution_count": 14,
   "metadata": {},
   "outputs": [
    {
     "data": {
      "image/png": "[encoded data removed]",
      "text/plain": [
       "<Figure size 1296x432 with 3 Axes>"
      ]
     },
     "metadata": {
      "needs_background": "light"
     },
     "output_type": "display_data"
    }
   ],
   "source": [
    "plot_figure([robot_data, pixel_data, string_data], 'alpha')"
   ]
  },
  {
   "cell_type": "markdown",
   "metadata": {},
   "source": [
    "## Correlation"
   ]
  },
  {
   "cell_type": "code",
   "execution_count": 15,
   "metadata": {},
   "outputs": [
    {
     "data": {
      "text/html": [
       "<div>\n",
       "<style scoped>\n",
       "    .dataframe tbody tr th:only-of-type {\n",
       "        vertical-align: middle;\n",
       "    }\n",
       "\n",
       "    .dataframe tbody tr th {\n",
       "        vertical-align: top;\n",
       "    }\n",
       "\n",
       "    .dataframe thead th {\n",
       "        text-align: right;\n",
       "    }\n",
       "</style>\n",
       "<table border=\"1\" class=\"dataframe\">\n",
       "  <thead>\n",
       "    <tr style=\"text-align: right;\">\n",
       "      <th></th>\n",
       "      <th>cases_solved</th>\n",
       "      <th>execution_time</th>\n",
       "      <th>program_length</th>\n",
       "    </tr>\n",
       "  </thead>\n",
       "  <tbody>\n",
       "    <tr>\n",
       "      <th>alpha</th>\n",
       "      <td>-0.038462</td>\n",
       "      <td>-0.333835</td>\n",
       "      <td>0.379566</td>\n",
       "    </tr>\n",
       "  </tbody>\n",
       "</table>\n",
       "</div>"
      ],
      "text/plain": [
       "       cases_solved  execution_time  program_length\n",
       "alpha     -0.038462       -0.333835        0.379566"
      ]
     },
     "metadata": {},
     "output_type": "display_data"
    }
   ],
   "source": [
    "drop_cols = [\n",
    " 'files',\n",
    " 'params.type',\n",
    " 'params.add_token_end',\n",
    " 'params.add_token_random',\n",
    " 'params.remove_token_end',\n",
    " 'params.remove_token_random',\n",
    " 'params.add_loop_end',\n",
    " 'params.add_loop_random',\n",
    " 'params.add_if_statement_end',\n",
    " 'params.add_if_statement_random',\n",
    " 'params.start_over',\n",
    " 'average.test_cost',\n",
    " 'average.train_cost',\n",
    " 'average.execution_time',\n",
    " 'average.program_length',\n",
    " 'average.number_of_explored_programs',\n",
    " 'average.number_of_iterations',\n",
    " 'average_correct.test_cost',\n",
    " 'average_correct.train_cost',\n",
    " 'average_correct.number_of_explored_programs',\n",
    " 'average_correct.number_of_iterations',\n",
    " 'average_failed.test_cost',\n",
    " 'average_failed.train_cost',\n",
    " 'average_failed.execution_time',\n",
    " 'average_failed.program_length',\n",
    " 'average_failed.number_of_explored_programs',\n",
    " 'average_failed.number_of_iterations',\n",
    " 'variance.test_cost',\n",
    " 'variance.train_cost',\n",
    " 'variance.execution_time',\n",
    " 'variance.program_length',\n",
    " 'variance.number_of_explored_programs',\n",
    " 'variance.number_of_iterations',\n",
    " 'variance_correct.test_cost',\n",
    " 'variance_correct.train_cost',\n",
    " 'variance_correct.execution_time',\n",
    " 'variance_correct.program_length',\n",
    " 'variance_correct.number_of_explored_programs',\n",
    " 'variance_correct.number_of_iterations',\n",
    " 'variance_failed.test_cost',\n",
    " 'variance_failed.train_cost',\n",
    " 'variance_failed.execution_time',\n",
    " 'variance_failed.program_length',\n",
    " 'variance_failed.number_of_explored_programs',\n",
    " 'variance_failed.number_of_iterations',\n",
    " 'best_results.file',\n",
    " 'best_results.test_cost',\n",
    " 'best_results.train_cost',\n",
    " 'best_results.execution_time',\n",
    " 'best_results.program_length',\n",
    " 'best_results.number_of_explored_programs',\n",
    " 'best_results.program',\n",
    " 'best_results.cost_per_iteration',\n",
    " 'best_results.number_of_iterations']\n",
    "\n",
    "df = pd.json_normalize([*robot_data, *pixel_data, *string_data]).drop(drop_cols, axis=1)\n",
    "df['cases_solved'] = df['cases_solved'].apply(lambda x: float(re.match(\".*\\((.*)%\\).*$\", x).group(1)))\n",
    "\n",
    "df.corr()\n",
    "\n",
    "\n",
    "\n",
    "\n",
    "\n",
    "name_map = {\n",
    "    'params.alpha': 'alpha',\n",
    "    'cases_solved': 'cases_solved',\n",
    "    'average_correct.execution_time': 'execution_time',\n",
    "    'average_correct.program_length': 'program_length',\n",
    "}\n",
    "\n",
    "indep_vars = [\n",
    "    'alpha'\n",
    "]\n",
    "\n",
    "dep_vars = [\n",
    "    'cases_solved',\n",
    "    'execution_time',\n",
    "    'program_length',\n",
    "]\n",
    "\n",
    "table = df.rename(columns=name_map).corr(method='kendall').drop(indep_vars, axis=1).drop(dep_vars, axis=0)\n",
    "display(table)\n",
    "dfi.export(table, 'alpha-correlation-table.png')"
   ]
  }
 ],
 "metadata": {
  "kernelspec": {
   "display_name": "Python 3",
   "language": "python",
   "name": "python3"
  },
  "language_info": {
   "codemirror_mode": {
    "name": "ipython",
    "version": 3
   },
   "file_extension": ".py",
   "mimetype": "text/x-python",
   "name": "python",
   "nbconvert_exporter": "python",
   "pygments_lexer": "ipython3",
   "version": "3.8.3"
  }
 },
 "nbformat": 4,
 "nbformat_minor": 4
}
