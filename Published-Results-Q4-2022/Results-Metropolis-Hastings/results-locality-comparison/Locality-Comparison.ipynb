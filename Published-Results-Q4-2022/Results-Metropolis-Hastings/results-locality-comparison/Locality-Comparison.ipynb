{
 "cells": [
  {
   "cell_type": "markdown",
   "metadata": {},
   "source": [
    "# Locality Comparison"
   ]
  },
  {
   "cell_type": "markdown",
   "metadata": {},
   "source": [
    "**Imports**:"
   ]
  },
  {
   "cell_type": "code",
   "execution_count": 1,
   "metadata": {},
   "outputs": [],
   "source": [
    "import numpy as np\n",
    "import matplotlib.pyplot as plt\n",
    "import pandas as pd\n",
    "import json\n",
    "import re\n",
    "from os import listdir\n",
    "from os.path import isfile, join\n",
    "import dataframe_image as dfi"
   ]
  },
  {
   "cell_type": "markdown",
   "metadata": {},
   "source": [
    "**Data Retrieval**\n",
    "\n",
    "Insert local path to your Results folders for randomized and fixed locality here:"
   ]
  },
  {
   "cell_type": "code",
   "execution_count": 2,
   "metadata": {},
   "outputs": [],
   "source": [
    "path_random = \"C:\\\\Path\\\\to\\\\folder\\\\containing\\\\the\\\\results\\\\random\\\\\" # TODO FILL IN THE LOCAL PATH\n",
    "path_end = \"C:\\\\Path\\\\to\\\\folder\\\\containing\\\\the\\\\results\\\\end\\\\\" # TODO FILL IN THE LOCAL PATH"
   ]
  },
  {
   "cell_type": "code",
   "execution_count": 4,
   "metadata": {},
   "outputs": [],
   "source": [
    "path_random = \"C:\\\\Users\\\\Bo\\\\Documents\\\\TUDCODE\\\\Results\\\\results-mutation-weights-random\\\\\"\n",
    "robot_files_random =  [f for f in listdir(path_random + \"robot\\\\\")  if isfile(join(path_random + \"robot\\\\\", f))]\n",
    "pixel_files_random =  [f for f in listdir(path_random + \"pixel\\\\\")  if isfile(join(path_random + \"pixel\\\\\", f))]\n",
    "string_files_random = [f for f in listdir(path_random + \"string\\\\\") if isfile(join(path_random + \"string\\\\\", f))]"
   ]
  },
  {
   "cell_type": "code",
   "execution_count": 5,
   "metadata": {},
   "outputs": [],
   "source": [
    "path_end = \"C:\\\\Users\\\\Bo\\\\Documents\\\\TUDCODE\\\\Results\\\\results-mutation-weights-end\\\\\"\n",
    "robot_files_end =  [f for f in listdir(path_end + \"robot\\\\\")  if isfile(join(path_end + \"robot\\\\\", f))]\n",
    "pixel_files_end =  [f for f in listdir(path_end + \"pixel\\\\\")  if isfile(join(path_end + \"pixel\\\\\", f))]\n",
    "string_files_end = [f for f in listdir(path_end + \"string\\\\\") if isfile(join(path_end + \"string\\\\\", f))]"
   ]
  },
  {
   "cell_type": "code",
   "execution_count": 10,
   "metadata": {},
   "outputs": [],
   "source": [
    "#Load data for randomized locality experiments\n",
    "robot_data_random = []\n",
    "for file in robot_files_random:\n",
    "    with open(path_random + 'robot\\\\' + file, 'r') as f:\n",
    "      l = json.loads(f.readlines()[-1])\n",
    "      if ('domain' in l.keys() and l['domain'] == \"robot\"):\n",
    "            robot_data_random.append(l)\n",
    "    \n",
    "pixel_data_random = []\n",
    "for file in pixel_files_random:\n",
    "    with open(path_random + 'pixel\\\\' + file, 'r') as f:\n",
    "        l = json.loads(f.readlines()[-1])\n",
    "        if ('domain' in l.keys() and l['domain'] == \"pixel\"):\n",
    "            pixel_data_random.append(l)\n",
    "\n",
    "string_data_random = []\n",
    "for file in string_files_random:\n",
    "    with open(path_random + 'string\\\\' + file, 'r') as f:\n",
    "        l = json.loads(f.readlines()[-1])\n",
    "        if ('domain' in l.keys() and l['domain'] == \"string\"):\n",
    "            string_data_random.append(l)"
   ]
  },
  {
   "cell_type": "code",
   "execution_count": 11,
   "metadata": {},
   "outputs": [],
   "source": [
    "# Load data for fixed locality experiments\n",
    "robot_data_end = []\n",
    "for file in robot_files_end:\n",
    "    with open(path_end + 'robot\\\\' + file, 'r') as f:\n",
    "      l = json.loads(f.readlines()[-1])\n",
    "      if ('domain' in l.keys() and l['domain'] == \"robot\"):\n",
    "            robot_data_end.append(l)\n",
    "    \n",
    "pixel_data_end = []\n",
    "for file in pixel_files_end:\n",
    "    with open(path_end + 'pixel\\\\' + file, 'r') as f:\n",
    "        l = json.loads(f.readlines()[-1])\n",
    "        if ('domain' in l.keys() and l['domain'] == \"pixel\"):\n",
    "            pixel_data_end.append(l)\n",
    "\n",
    "string_data_end = []\n",
    "for file in string_files_end:\n",
    "    with open(path_end + 'string\\\\' + file, 'r') as f:\n",
    "        l = json.loads(f.readlines()[-1])\n",
    "        if ('domain' in l.keys() and l['domain'] == \"string\"):\n",
    "            string_data_end.append(l)"
   ]
  },
  {
   "cell_type": "markdown",
   "metadata": {},
   "source": [
    "**Restructure Data**"
   ]
  },
  {
   "cell_type": "code",
   "execution_count": 12,
   "metadata": {},
   "outputs": [],
   "source": [
    "for x in robot_data_random:\n",
    "    x['locality'] = 'random'\n",
    "    \n",
    "for x in pixel_data_random:\n",
    "    x['locality'] = 'random'\n",
    "    \n",
    "for x in string_data_random:\n",
    "    x['locality'] = 'random'\n",
    "    \n",
    "\n",
    "for x in robot_data_end:\n",
    "    x['locality'] = 'end'\n",
    "    \n",
    "for x in pixel_data_end:\n",
    "    x['locality'] = 'end'\n",
    "    \n",
    "for x in string_data_end:\n",
    "    x['locality'] = 'end'"
   ]
  },
  {
   "cell_type": "code",
   "execution_count": 13,
   "metadata": {},
   "outputs": [],
   "source": [
    "robot_data_raw = [robot_data_random, robot_data_end]\n",
    "pixel_data_raw = [pixel_data_random, pixel_data_end]\n",
    "string_data_raw = [string_data_random, string_data_end]\n",
    "\n",
    "labels = [\"random\", \"end\"]\n",
    "domains = [\"robot\", \"pixel\", \"string\"]"
   ]
  },
  {
   "cell_type": "code",
   "execution_count": 14,
   "metadata": {},
   "outputs": [],
   "source": [
    "def rename (data:dict):\n",
    "    data['params']['add_token'] = data['params'].pop('add_token_random') + data['params'].pop('add_token_end')\n",
    "    data['params']['remove_token'] = data['params'].pop('remove_token_random') + data['params'].pop('remove_token_end')\n",
    "    data['params']['add_loop'] = data['params'].pop('add_loop_random') + data['params'].pop('add_loop_end')\n",
    "    data['params']['add_if_statement'] = data['params'].pop('add_if_statement_random') + data['params'].pop('add_if_statement_end')\n",
    "    return data\n",
    "\n",
    "robot_data = [rename(y) for x in robot_data_raw for y in x]\n",
    "pixel_data = [rename(y) for x in pixel_data_raw for y in x]\n",
    "string_data = [rename(y) for x in string_data_raw for y in x]"
   ]
  },
  {
   "cell_type": "markdown",
   "metadata": {},
   "source": [
    "\n",
    "**Important:**<br>\n",
    "You can change the statistic show in each method.<br>\n",
    "E.g. np.mean(temp), np.median(temp), or based on a selection np.mean(temp[:3]) (mean of the best 3 results)\n"
   ]
  },
  {
   "cell_type": "code",
   "execution_count": 15,
   "metadata": {},
   "outputs": [],
   "source": [
    "def group_by_locality_cases_solved(data):\n",
    "    res = []\n",
    "    for l in labels:\n",
    "        temp = [float(re.match(\".*\\((.*)%\\).*$\", j['cases_solved']).group(1)) for j in filter(lambda x: x['locality'] == l, d)]\n",
    "        temp.sort(reverse=True)\n",
    "        res.append(np.median(temp)) # Change here\n",
    "    return res\n",
    "\n",
    "def group_by_locality_execution_time(data):\n",
    "    res = []\n",
    "    for l in labels:\n",
    "        temp = [j['average_correct']['execution_time'] for j in filter(lambda x: x['locality'] == l, d)]\n",
    "        temp.sort(reverse=False)\n",
    "        res.append(np.median(temp)) # Change here\n",
    "    return res\n",
    "\n",
    "def group_by_locality_program_length(data):\n",
    "    res = []\n",
    "    for l in labels:\n",
    "        temp = [j['average_correct']['program_length'] for j in filter(lambda x: x['locality'] == l, d)]\n",
    "        temp.sort(reverse=False)\n",
    "        res.append(np.median(temp)) # Change here\n",
    "    return res"
   ]
  },
  {
   "cell_type": "markdown",
   "metadata": {},
   "source": [
    "## Plot Results"
   ]
  },
  {
   "cell_type": "code",
   "execution_count": 19,
   "metadata": {},
   "outputs": [
    {
     "data": {
      "image/png": "[encoded data removed]",
      "text/plain": [
       "<Figure size 1296x432 with 3 Axes>"
      ]
     },
     "metadata": {
      "needs_background": "light"
     },
     "output_type": "display_data"
    }
   ],
   "source": [
    "data = [robot_data, pixel_data, string_data]\n",
    "fig, axs = plt.subplots(1, 3, figsize=(18,6))    \n",
    "\n",
    "N = 2\n",
    "width = 0.25\n",
    "ind = np.arange(N)\n",
    "\n",
    "for j in range(len(domains)): # Add data for each domain\n",
    "    d = data[j]\n",
    "    xs = list(ind)\n",
    "    ys0 = group_by_locality_cases_solved(d)    \n",
    "    ys1 = group_by_locality_execution_time(d)\n",
    "    ys2 = group_by_locality_program_length(d)\n",
    "    ys = [ys0, ys1, ys2]\n",
    "    ylabels = [\"Cases Solved (%)\", \"Execution Time (s)\", \"Program Length\"]\n",
    "    \n",
    "    for i in range(3): # Create 1 graph per metric\n",
    "        axs[i].bar(ind + j * width, ys[i], width, label=d[0]['domain'])# + \" -> \" + str('%.1g' % a))\n",
    "        axs[i].set(xticks=ind + width, xticklabels=labels)\n",
    "        axs[i].legend()\n",
    "        axs[i].set_ylabel(ylabels[i])\n",
    "        \n",
    "        for x,y in zip(xs,np.array(ys).T.tolist()):\n",
    "                axs[i].annotate(\"{:.2f}\".format(y[i]), # this is the text\n",
    "                         (x + j*width,y[i]), # these are the coordinates to position the label\n",
    "                         textcoords=\"offset points\", # how to position the text\n",
    "                         xytext=(0,4), # distance from text to points (x,y)\n",
    "                         ha='center')\n",
    "\n",
    "# fig.tight_layout()"
   ]
  },
  {
   "cell_type": "markdown",
   "metadata": {},
   "source": [
    "## Best Performance\n",
    "\n",
    "You can change the statistic show in each method. E.g. np.mean(temp), np.median()"
   ]
  },
  {
   "cell_type": "code",
   "execution_count": 30,
   "metadata": {},
   "outputs": [],
   "source": [
    "def best_cases_solved(data):\n",
    "    res = []\n",
    "    for l in labels:\n",
    "        temp = [float(re.match(\".*\\((.*)%\\).*$\", j['cases_solved']).group(1)) for j in filter(lambda x: x['locality'] == l, d)]\n",
    "        temp.sort(reverse=True)\n",
    "        res.append(temp[0]) # Change here\n",
    "    return res\n",
    "\n",
    "def best_execution_time(data):\n",
    "    res = []\n",
    "    for l in labels:\n",
    "        temp = [j['average_correct']['execution_time'] for j in filter(lambda x: x['locality'] == l, d)]\n",
    "        temp.sort(reverse=False)\n",
    "        res.append(temp[0]) # Change here\n",
    "    return res\n",
    "\n",
    "def best_program_length(data):\n",
    "    res = []\n",
    "    for l in labels:\n",
    "        temp = [j['average_correct']['program_length'] for j in filter(lambda x: x['locality'] == l, d)]\n",
    "        temp.sort(reverse=False)\n",
    "        res.append(temp[0]) # Change here\n",
    "    return res"
   ]
  },
  {
   "cell_type": "code",
   "execution_count": 31,
   "metadata": {},
   "outputs": [
    {
     "name": "stdout",
     "output_type": "stream",
     "text": [
      "\n",
      "robot:\n",
      "[100.0, 100.0]\n",
      "[0.1141600489072727, 0.00635644111636364]\n",
      "[96.06181818181814, 56.09636363636362]\n",
      "\n",
      "pixel:\n",
      "[20.6, 20.4]\n",
      "[3.9686164664600017, 6.5235011859108925]\n",
      "[125.91999999999999, 169.64583333333337]\n",
      "\n",
      "string:\n",
      "[27.5, 11.7]\n",
      "[2.0293594756593882, 2.2188505247377077]\n",
      "[252.90717379024701, 46.77532065457758]\n"
     ]
    }
   ],
   "source": [
    "df_dict = {\n",
    "    \"robot\": {\n",
    "        'cases_solved': {},\n",
    "        'execution_time': {},\n",
    "        'program_length': {},\n",
    "    },\n",
    "    \"pixel\": {\n",
    "        'cases_solved': {},\n",
    "        'execution_time': {},\n",
    "        'program_length': {},\n",
    "    },\n",
    "    \"string\": {\n",
    "        'cases_solved': {},\n",
    "        'execution_time': {},\n",
    "        'program_length': {},\n",
    "    },\n",
    "}\n",
    "\n",
    "df_table = []\n",
    "\n",
    "for j in range(len(domains)): # Add data for each domain\n",
    "    temp = []\n",
    "    d = data[j]\n",
    "    \n",
    "    print(\"\\n\"+domains[j]+\":\")\n",
    "    print(best_cases_solved(d))\n",
    "    print(best_execution_time(d))\n",
    "    print(best_program_length(d))\n",
    "    \n",
    "    df_dict[domains[j]]['cases_solved']['random'] = best_cases_solved(d)[0]\n",
    "    df_dict[domains[j]]['execution_time']['random'] = best_execution_time(d)[0]\n",
    "    df_dict[domains[j]]['program_length']['random'] = best_program_length(d)[0]\n",
    "    \n",
    "    df_dict[domains[j]]['cases_solved']['end'] = best_cases_solved(d)[1]\n",
    "    df_dict[domains[j]]['execution_time']['end'] = best_execution_time(d)[1]\n",
    "    df_dict[domains[j]]['program_length']['end'] = best_program_length(d)[1]\n",
    "    \n",
    "    temp.append(best_cases_solved(d))\n",
    "    temp.append(best_execution_time(d))\n",
    "    temp.append(best_program_length(d))\n",
    "    df_table.append(temp)\n",
    "\n"
   ]
  },
  {
   "cell_type": "code",
   "execution_count": null,
   "metadata": {},
   "outputs": [],
   "source": []
  }
 ],
 "metadata": {
  "kernelspec": {
   "display_name": "Python 3",
   "language": "python",
   "name": "python3"
  },
  "language_info": {
   "codemirror_mode": {
    "name": "ipython",
    "version": 3
   },
   "file_extension": ".py",
   "mimetype": "text/x-python",
   "name": "python",
   "nbconvert_exporter": "python",
   "pygments_lexer": "ipython3",
   "version": "3.8.3"
  }
 },
 "nbformat": 4,
 "nbformat_minor": 4
}
