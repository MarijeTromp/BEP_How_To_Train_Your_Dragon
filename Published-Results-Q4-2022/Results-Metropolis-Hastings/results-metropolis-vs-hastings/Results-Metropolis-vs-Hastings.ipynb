{
 "cells": [
  {
   "cell_type": "markdown",
   "metadata": {},
   "source": [
    "# Metropolis-vs-Hastings\n",
    "A comparison of different acceptance functions\n",
    "\n",
    "**Imports:**"
   ]
  },
  {
   "cell_type": "code",
   "execution_count": 1,
   "metadata": {},
   "outputs": [],
   "source": [
    "import numpy as np\n",
    "import matplotlib.pyplot as plt\n",
    "import pandas as pd\n",
    "import json\n",
    "import re\n",
    "from os import listdir\n",
    "from os.path import isfile, join"
   ]
  },
  {
   "cell_type": "markdown",
   "metadata": {},
   "source": [
    "**Data Retrieval:**\n",
    "    \n",
    "Insert local path to your Results folder here:"
   ]
  },
  {
   "cell_type": "code",
   "execution_count": 2,
   "metadata": {},
   "outputs": [],
   "source": [
    "path = \"C:\\\\Path\\\\to\\\\folder\\\\containing\\\\the\\\\results\\\\\" # TODO FILL IN THE LOCAL PATH"
   ]
  },
  {
   "cell_type": "code",
   "execution_count": 3,
   "metadata": {},
   "outputs": [],
   "source": [
    "robot_files =  [f for f in listdir(path + \"robot\\\\\")  if isfile(join(path + \"robot\\\\\", f))]\n",
    "pixel_files =  [f for f in listdir(path + \"pixel\\\\\")  if isfile(join(path + \"pixel\\\\\", f))]\n",
    "string_files = [f for f in listdir(path + \"string\\\\\") if isfile(join(path + \"string\\\\\", f))]"
   ]
  },
  {
   "cell_type": "code",
   "execution_count": 4,
   "metadata": {},
   "outputs": [],
   "source": [
    "robot_data = []\n",
    "for file in robot_files:\n",
    "    with open(path + 'robot\\\\' + file, 'r') as f:\n",
    "      l = json.loads(f.readlines()[-1])\n",
    "      if ('domain' in l.keys() and l['domain'] == \"robot\"):\n",
    "            robot_data.append(l)\n",
    "    \n",
    "    \n",
    "    \n",
    "pixel_data = []\n",
    "for file in pixel_files:\n",
    "    with open(path + 'pixel\\\\' + file, 'r') as f:\n",
    "        l = json.loads(f.readlines()[-1])\n",
    "        if ('domain' in l.keys() and l['domain'] == \"pixel\"):\n",
    "            pixel_data.append(l)\n",
    "\n",
    "string_data = []\n",
    "for file in string_files:\n",
    "    with open(path + 'string\\\\' + file, 'r') as f:\n",
    "        l = json.loads(f.readlines()[-1])\n",
    "        if ('domain' in l.keys() and l['domain'] == \"string\"):\n",
    "            string_data.append(l)"
   ]
  },
  {
   "cell_type": "markdown",
   "metadata": {},
   "source": [
    "## Print Data"
   ]
  },
  {
   "cell_type": "code",
   "execution_count": 5,
   "metadata": {},
   "outputs": [
    {
     "name": "stdout",
     "output_type": "stream",
     "text": [
      "\n",
      "Cases solved (Robot):\n",
      "alpha=1\t: 550 / 550 (100.0%)\n",
      "alpha=1\t: 550 / 550 (100.0%)\n",
      "alpha=1\t: 550 / 550 (100.0%)\n",
      "\n",
      "Cases solved (Pixel):\n",
      "alpha=1\t: 10 / 500 (2.0%)\n",
      "alpha=1\t: 89 / 500 (17.8%)\n",
      "alpha=1\t: 0 / 500 (0.0%)\n",
      "\n",
      "Cases solved (String):\n",
      "alpha=1\t: 3295 / 19295 (17.1%)\n",
      "alpha=1\t: 1926 / 19295 (10.0%)\n",
      "alpha=1\t: 872 / 19295 (4.5%)\n",
      "\n",
      "Execution Time (Robot):\n",
      "alpha=1\t: 0.3777301160672725\n",
      "alpha=1\t: 0.012679726985454548\n",
      "alpha=1\t: 0.014190685887272719\n",
      "\n",
      "Execution Time (Pixel):\n",
      "alpha=1\t: 32.25831165720002\n",
      "alpha=1\t: 15.720886263449438\n",
      "alpha=1\t: 0\n",
      "\n",
      "Execution Time (String):\n",
      "alpha=1\t: 2.7874079027341327\n",
      "alpha=1\t: 3.690685691794894\n",
      "alpha=1\t: 0.25834347218119785\n",
      "\n",
      "Execution Time (Robot):\n",
      "alpha=1\t: 22.912727272727246\n",
      "alpha=1\t: 75.78000000000007\n",
      "alpha=1\t: 92.92000000000002\n",
      "\n",
      "Execution Time (Pixel):\n",
      "alpha=1\t: 28.0\n",
      "alpha=1\t: 129.66292134831468\n",
      "alpha=1\t: 0\n",
      "\n",
      "Execution Time (String):\n",
      "alpha=1\t: 25.36115326251886\n",
      "alpha=1\t: 48.4402907580479\n",
      "alpha=1\t: 54.87041284403671\n"
     ]
    }
   ],
   "source": [
    "\n",
    "print(\"\\nCases solved (Robot):\")\n",
    "for x in robot_data:\n",
    "    print(\"alpha=\" + str(x['params']['alpha']) + \"\\t: \" + x['cases_solved'])\n",
    "\n",
    "print(\"\\nCases solved (Pixel):\")\n",
    "for x in pixel_data:\n",
    "    print(\"alpha=\" + str(x['params']['alpha']) + \"\\t: \" + x['cases_solved'])\n",
    "    \n",
    "print(\"\\nCases solved (String):\")\n",
    "for x in string_data:\n",
    "    print(\"alpha=\" + str(x['params']['alpha']) + \"\\t: \" + x['cases_solved'])\n",
    "\n",
    "print(\"\\nExecution Time (Robot):\")\n",
    "for x in robot_data:\n",
    "    print(\"alpha=\" + str(x['params']['alpha']) + \"\\t: \" + str(x['average_correct']['execution_time']))\n",
    "\n",
    "print(\"\\nExecution Time (Pixel):\")\n",
    "for x in pixel_data:\n",
    "    print(\"alpha=\" + str(x['params']['alpha']) + \"\\t: \" + str(x['average_correct']['execution_time']))\n",
    "    \n",
    "print(\"\\nExecution Time (String):\")\n",
    "for x in string_data:\n",
    "    print(\"alpha=\" + str(x['params']['alpha']) + \"\\t: \" + str(x['average_correct']['execution_time']))\n",
    "\n",
    "print(\"\\nExecution Time (Robot):\")\n",
    "for x in robot_data:\n",
    "    print(\"alpha=\" + str(x['params']['alpha']) + \"\\t: \" + str(x['average_correct']['program_length']))\n",
    "\n",
    "print(\"\\nExecution Time (Pixel):\")\n",
    "for x in pixel_data:\n",
    "    print(\"alpha=\" + str(x['params']['alpha']) + \"\\t: \" + str(x['average_correct']['program_length']))\n",
    "    \n",
    "print(\"\\nExecution Time (String):\")\n",
    "for x in string_data:\n",
    "    print(\"alpha=\" + str(x['params']['alpha']) + \"\\t: \" + str(x['average_correct']['program_length']))\n",
    "\n"
   ]
  },
  {
   "cell_type": "markdown",
   "metadata": {},
   "source": [
    "## Plot Data"
   ]
  },
  {
   "cell_type": "code",
   "execution_count": 6,
   "metadata": {},
   "outputs": [
    {
     "data": {
      "image/png": "[encoded data removed]",
      "text/plain": [
       "<Figure size 1296x432 with 3 Axes>"
      ]
     },
     "metadata": {
      "needs_background": "light"
     },
     "output_type": "display_data"
    }
   ],
   "source": [
    "data = [robot_data, pixel_data, string_data]\n",
    "fig, axs = plt.subplots(1, 3, figsize=(18,6))    \n",
    "\n",
    "N = 3\n",
    "width = 0.25\n",
    "ind = np.arange(N)\n",
    "\n",
    "for j in range(len(data)): # Add data for each domain\n",
    "    d = data[j]\n",
    "    xs = [re.sub(\"_\", \"\\n\", i['params']['type']).title() for i in d]\n",
    "    ys0 = [float(re.match(\".*\\((.*)%\\).*$\", j['cases_solved']).group(1)) for j in d]\n",
    "    ys1 = [j['average_correct']['execution_time'] for j in d]\n",
    "    ys2 = [j['average_correct']['program_length'] for j in d]\n",
    "    ys = [ys0, ys1, ys2]\n",
    "    ylabels = [\"Cases Solved (%)\", \"Execution Time (s)\", \"Program Length\"]\n",
    "    \n",
    "    for i in range(3): # Create 1 graph per metric\n",
    "        axs[i].bar(ind + j * width, ys[i], width, label=d[0]['domain'])# + \" -> \" + str('%.1g' % a))\n",
    "        axs[i].set(xticks=ind+width, xticklabels=xs)\n",
    "        axs[i].legend()\n",
    "        axs[i].set_ylabel(ylabels[i])\n",
    "        \n",
    "        for x,y in zip(list(ind),np.array(ys).T.tolist()):\n",
    "                axs[i].annotate(\"{:.2f}\".format(float(y[i])), # this is the text\n",
    "                         (x + j*width,y[i]), # these are the coordinates to position the label\n",
    "                         textcoords=\"offset points\", # how to position the text\n",
    "                         xytext=(0,4), # distance from text to points (x,y)\n",
    "                         ha='center')\n",
    "\n",
    "fig.gca().autoscale(enable=True, axis='x', tight=True)"
   ]
  },
  {
   "cell_type": "code",
   "execution_count": 7,
   "metadata": {},
   "outputs": [],
   "source": [
    "#Default Weights\n",
    "\n",
    "default = {\n",
    "    \"add_token_random\": 30,\n",
    "    \"remove_token_random\": 30,\n",
    "    \"add_loop_random\": 30,\n",
    "    \"add_if_statement_random\": 30,\n",
    "    \"start_over\": 6\n",
    "}\n"
   ]
  },
  {
   "cell_type": "code",
   "execution_count": null,
   "metadata": {},
   "outputs": [],
   "source": []
  }
 ],
 "metadata": {
  "kernelspec": {
   "display_name": "Python 3",
   "language": "python",
   "name": "python3"
  },
  "language_info": {
   "codemirror_mode": {
    "name": "ipython",
    "version": 3
   },
   "file_extension": ".py",
   "mimetype": "text/x-python",
   "name": "python",
   "nbconvert_exporter": "python",
   "pygments_lexer": "ipython3",
   "version": "3.8.3"
  }
 },
 "nbformat": 4,
 "nbformat_minor": 4
}
